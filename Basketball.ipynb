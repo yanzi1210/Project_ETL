{
 "cells": [
  {
   "cell_type": "code",
   "execution_count": 36,
   "metadata": {},
   "outputs": [],
   "source": [
    "import pandas as pd\n",
    "from sqlalchemy import create_engine\n"
   ]
  },
  {
   "cell_type": "code",
   "execution_count": 37,
   "metadata": {},
   "outputs": [
    {
     "data": {
      "text/html": [
       "<div>\n",
       "<style scoped>\n",
       "    .dataframe tbody tr th:only-of-type {\n",
       "        vertical-align: middle;\n",
       "    }\n",
       "\n",
       "    .dataframe tbody tr th {\n",
       "        vertical-align: top;\n",
       "    }\n",
       "\n",
       "    .dataframe thead th {\n",
       "        text-align: right;\n",
       "    }\n",
       "</style>\n",
       "<table border=\"1\" class=\"dataframe\">\n",
       "  <thead>\n",
       "    <tr style=\"text-align: right;\">\n",
       "      <th></th>\n",
       "      <th>year</th>\n",
       "      <th>round</th>\n",
       "      <th>pick</th>\n",
       "      <th>player</th>\n",
       "      <th>position</th>\n",
       "      <th>school</th>\n",
       "    </tr>\n",
       "  </thead>\n",
       "  <tbody>\n",
       "    <tr>\n",
       "      <th>0</th>\n",
       "      <td>1980</td>\n",
       "      <td>1</td>\n",
       "      <td>1</td>\n",
       "      <td>Carroll, Joe Barry</td>\n",
       "      <td>F/C</td>\n",
       "      <td>Purdue</td>\n",
       "    </tr>\n",
       "    <tr>\n",
       "      <th>1</th>\n",
       "      <td>1980</td>\n",
       "      <td>1</td>\n",
       "      <td>2</td>\n",
       "      <td>Griffith, Darrell</td>\n",
       "      <td>G</td>\n",
       "      <td>Louisville</td>\n",
       "    </tr>\n",
       "    <tr>\n",
       "      <th>2</th>\n",
       "      <td>1980</td>\n",
       "      <td>1</td>\n",
       "      <td>3</td>\n",
       "      <td>McHale, Kevin</td>\n",
       "      <td>F/C</td>\n",
       "      <td>Minnesota</td>\n",
       "    </tr>\n",
       "    <tr>\n",
       "      <th>3</th>\n",
       "      <td>1980</td>\n",
       "      <td>1</td>\n",
       "      <td>4</td>\n",
       "      <td>Ransey, Kelvin</td>\n",
       "      <td>G</td>\n",
       "      <td>Ohio State</td>\n",
       "    </tr>\n",
       "    <tr>\n",
       "      <th>4</th>\n",
       "      <td>1980</td>\n",
       "      <td>1</td>\n",
       "      <td>5</td>\n",
       "      <td>Ray, James</td>\n",
       "      <td>F</td>\n",
       "      <td>Jacksonville</td>\n",
       "    </tr>\n",
       "  </tbody>\n",
       "</table>\n",
       "</div>"
      ],
      "text/plain": [
       "   year  round  pick              player position        school\n",
       "0  1980      1     1  Carroll, Joe Barry      F/C        Purdue\n",
       "1  1980      1     2   Griffith, Darrell        G    Louisville\n",
       "2  1980      1     3       McHale, Kevin      F/C     Minnesota\n",
       "3  1980      1     4      Ransey, Kelvin        G    Ohio State\n",
       "4  1980      1     5          Ray, James        F  Jacksonville"
      ]
     },
     "execution_count": 37,
     "metadata": {},
     "output_type": "execute_result"
    }
   ],
   "source": [
    "nbadra = \".//Resources/NBA_1980_2017.csv\" \n",
    "nbadra_df = pd.read_csv(nbadra)\n",
    "\n",
    "nbadra_df.dropna(subset=['player'], inplace=True)\n",
    "nbadra_df.head()"
   ]
  },
  {
   "cell_type": "code",
   "execution_count": 38,
   "metadata": {},
   "outputs": [
    {
     "data": {
      "text/html": [
       "<div>\n",
       "<style scoped>\n",
       "    .dataframe tbody tr th:only-of-type {\n",
       "        vertical-align: middle;\n",
       "    }\n",
       "\n",
       "    .dataframe tbody tr th {\n",
       "        vertical-align: top;\n",
       "    }\n",
       "\n",
       "    .dataframe thead th {\n",
       "        text-align: right;\n",
       "    }\n",
       "</style>\n",
       "<table border=\"1\" class=\"dataframe\">\n",
       "  <thead>\n",
       "    <tr style=\"text-align: right;\">\n",
       "      <th></th>\n",
       "      <th>YEAR</th>\n",
       "      <th>ROUND</th>\n",
       "      <th>PICK</th>\n",
       "      <th>PLAYER</th>\n",
       "      <th>POSITION</th>\n",
       "      <th>COLLEGE</th>\n",
       "    </tr>\n",
       "  </thead>\n",
       "  <tbody>\n",
       "    <tr>\n",
       "      <th>0</th>\n",
       "      <td>1980</td>\n",
       "      <td>1</td>\n",
       "      <td>1</td>\n",
       "      <td>Carroll, Joe Barry</td>\n",
       "      <td>F/C</td>\n",
       "      <td>Purdue</td>\n",
       "    </tr>\n",
       "    <tr>\n",
       "      <th>1</th>\n",
       "      <td>1980</td>\n",
       "      <td>1</td>\n",
       "      <td>2</td>\n",
       "      <td>Griffith, Darrell</td>\n",
       "      <td>G</td>\n",
       "      <td>Louisville</td>\n",
       "    </tr>\n",
       "    <tr>\n",
       "      <th>2</th>\n",
       "      <td>1980</td>\n",
       "      <td>1</td>\n",
       "      <td>3</td>\n",
       "      <td>McHale, Kevin</td>\n",
       "      <td>F/C</td>\n",
       "      <td>Minnesota</td>\n",
       "    </tr>\n",
       "    <tr>\n",
       "      <th>3</th>\n",
       "      <td>1980</td>\n",
       "      <td>1</td>\n",
       "      <td>4</td>\n",
       "      <td>Ransey, Kelvin</td>\n",
       "      <td>G</td>\n",
       "      <td>Ohio State</td>\n",
       "    </tr>\n",
       "    <tr>\n",
       "      <th>4</th>\n",
       "      <td>1980</td>\n",
       "      <td>1</td>\n",
       "      <td>5</td>\n",
       "      <td>Ray, James</td>\n",
       "      <td>F</td>\n",
       "      <td>Jacksonville</td>\n",
       "    </tr>\n",
       "    <tr>\n",
       "      <th>5</th>\n",
       "      <td>1980</td>\n",
       "      <td>1</td>\n",
       "      <td>6</td>\n",
       "      <td>O'Koren, Mike</td>\n",
       "      <td>G/F</td>\n",
       "      <td>North Carolina</td>\n",
       "    </tr>\n",
       "    <tr>\n",
       "      <th>6</th>\n",
       "      <td>1980</td>\n",
       "      <td>1</td>\n",
       "      <td>7</td>\n",
       "      <td>Gminski, Mike</td>\n",
       "      <td>C</td>\n",
       "      <td>Duke</td>\n",
       "    </tr>\n",
       "    <tr>\n",
       "      <th>7</th>\n",
       "      <td>1980</td>\n",
       "      <td>1</td>\n",
       "      <td>8</td>\n",
       "      <td>Toney, Andrew</td>\n",
       "      <td>G</td>\n",
       "      <td>Southwestern Louisiana</td>\n",
       "    </tr>\n",
       "    <tr>\n",
       "      <th>8</th>\n",
       "      <td>1980</td>\n",
       "      <td>1</td>\n",
       "      <td>9</td>\n",
       "      <td>Brooks, Michael</td>\n",
       "      <td>F</td>\n",
       "      <td>La Salle</td>\n",
       "    </tr>\n",
       "    <tr>\n",
       "      <th>9</th>\n",
       "      <td>1980</td>\n",
       "      <td>1</td>\n",
       "      <td>10</td>\n",
       "      <td>Lester, Ronnie</td>\n",
       "      <td>G</td>\n",
       "      <td>Iowa</td>\n",
       "    </tr>\n",
       "  </tbody>\n",
       "</table>\n",
       "</div>"
      ],
      "text/plain": [
       "   YEAR  ROUND  PICK              PLAYER POSITION                 COLLEGE\n",
       "0  1980      1     1  Carroll, Joe Barry      F/C                  Purdue\n",
       "1  1980      1     2   Griffith, Darrell        G              Louisville\n",
       "2  1980      1     3       McHale, Kevin      F/C               Minnesota\n",
       "3  1980      1     4      Ransey, Kelvin        G              Ohio State\n",
       "4  1980      1     5          Ray, James        F            Jacksonville\n",
       "5  1980      1     6       O'Koren, Mike      G/F          North Carolina\n",
       "6  1980      1     7       Gminski, Mike        C                    Duke\n",
       "7  1980      1     8       Toney, Andrew        G  Southwestern Louisiana\n",
       "8  1980      1     9     Brooks, Michael        F                La Salle\n",
       "9  1980      1    10      Lester, Ronnie        G                    Iowa"
      ]
     },
     "execution_count": 38,
     "metadata": {},
     "output_type": "execute_result"
    }
   ],
   "source": [
    "finalNba =nbadra_df.rename(index=str, columns={'year':'YEAR','round':'ROUND','pick':'PICK','position':'POSITION','school':'COLLEGE',\"player\": \"PLAYER\"})\n",
    "finalNba.head(10)"
   ]
  },
  {
   "cell_type": "code",
   "execution_count": null,
   "metadata": {},
   "outputs": [],
   "source": []
  },
  {
   "cell_type": "code",
   "execution_count": null,
   "metadata": {},
   "outputs": [],
   "source": [
    "ncaab = \".//Resources/NCAAB.csv\"\n",
    "ncaab_df = pd.read_csv(ncaab)\n",
    "ncaab_df.head()"
   ]
  },
  {
   "cell_type": "code",
   "execution_count": null,
   "metadata": {},
   "outputs": [],
   "source": [
    "ncaab_df = ncaab_df.rename(columns={\"CHAMPION (RECORD)\": \"Champion\"})\n"
   ]
  },
  {
   "cell_type": "code",
   "execution_count": null,
   "metadata": {},
   "outputs": [],
   "source": [
    "ncaab_df.head()"
   ]
  },
  {
   "cell_type": "code",
   "execution_count": null,
   "metadata": {},
   "outputs": [],
   "source": [
    "ncaab_df[\"Champion\"] = ncaab_df.Champion.str.split(\"(\", expand = True)\n",
    "ncaab_df.head()\n"
   ]
  },
  {
   "cell_type": "code",
   "execution_count": null,
   "metadata": {},
   "outputs": [],
   "source": [
    "# Create a filtered dataframe from specific columns\n",
    "ncaab_cols = [\"YEAR\", \"Champion\", \"COACH\"]\n",
    "ncaab_transformed= ncaab_df[ncaab_cols].copy()\n",
    "\n",
    "ncaab_transformed.head()"
   ]
  },
  {
   "cell_type": "code",
   "execution_count": null,
   "metadata": {},
   "outputs": [],
   "source": [
    "#Pick NBA players datafile\n",
    "nba_players = \".//Resources/NBABirth.csv\"\n",
    "nba_players_df = pd.read_csv(nba_players)\n",
    "nba_players_df.head()"
   ]
  },
  {
   "cell_type": "code",
   "execution_count": null,
   "metadata": {
    "scrolled": true
   },
   "outputs": [],
   "source": [
    "#Pick player birthdate and city\n",
    "player_df = nba_players_df[[\"Player\",\"Date\",\"City\",\"State\"]].copy()\n",
    "player_df.head()"
   ]
  },
  {
   "cell_type": "code",
   "execution_count": null,
   "metadata": {
    "scrolled": true
   },
   "outputs": [],
   "source": [
    "player_df[\"Date\"] = player_df.Date.str.split(\",\", expand = True)\n",
    "player_df[\"Month\"] = player_df[\"Date\"].str[:3]\n",
    "player_df.head()"
   ]
  },
  {
   "cell_type": "code",
   "execution_count": null,
   "metadata": {},
   "outputs": [],
   "source": [
    "#Take the columns needed\n",
    "player_df1 = player_df[[\"Player\",\"Month\",\"City\",\"State\"]].copy()\n",
    "player_df1.head()"
   ]
  },
  {
   "cell_type": "code",
   "execution_count": null,
   "metadata": {},
   "outputs": [],
   "source": [
    "player_df1.rename(columns={\"Player\":\"PLAYER\",'Month':'MONTH','City':'CITY','State':'STATE'},inplace=True)\n",
    "player_df1.head()"
   ]
  },
  {
   "cell_type": "code",
   "execution_count": null,
   "metadata": {
    "scrolled": true
   },
   "outputs": [],
   "source": [
    "#Connect to local database"
   ]
  },
  {
   "cell_type": "code",
   "execution_count": 39,
   "metadata": {},
   "outputs": [],
   "source": [
    "rds_connection_string = \"root:Eight1one@localhost:3306/sports_db\"\n",
    "engine = create_engine(f'mysql+pymysql://{rds_connection_string}')"
   ]
  },
  {
   "cell_type": "code",
   "execution_count": 40,
   "metadata": {},
   "outputs": [
    {
     "data": {
      "text/plain": [
       "['NBA_player_CSM', 'NBA_player_school', 'NCAAF_data', 'NFL_data']"
      ]
     },
     "execution_count": 40,
     "metadata": {},
     "output_type": "execute_result"
    }
   ],
   "source": [
    "engine.table_names()"
   ]
  },
  {
   "cell_type": "code",
   "execution_count": null,
   "metadata": {},
   "outputs": [],
   "source": [
    "player_df1.to_sql(name='NBA_player_CSM', con=engine, if_exists='append', index=False)"
   ]
  },
  {
   "cell_type": "code",
   "execution_count": 41,
   "metadata": {},
   "outputs": [],
   "source": [
    "finalNba.to_sql(name='NBA_player_school', con=engine, if_exists='append', index=False)"
   ]
  },
  {
   "cell_type": "code",
   "execution_count": null,
   "metadata": {},
   "outputs": [],
   "source": []
  }
 ],
 "metadata": {
  "kernelspec": {
   "display_name": "Python 3",
   "language": "python",
   "name": "python3"
  },
  "language_info": {
   "codemirror_mode": {
    "name": "ipython",
    "version": 3
   },
   "file_extension": ".py",
   "mimetype": "text/x-python",
   "name": "python",
   "nbconvert_exporter": "python",
   "pygments_lexer": "ipython3",
   "version": "3.6.8"
  }
 },
 "nbformat": 4,
 "nbformat_minor": 2
}
